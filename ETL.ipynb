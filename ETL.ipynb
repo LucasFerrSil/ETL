import pandas as pd
from google.colab import drive
drive.mount('/content/drive')

dados = pd.read_excel('/content/dados.xlsx')
trm = list(dados.iloc[0])
itrm = list(dados.iloc[1])
rm = list(dados.iloc[2])
irm = list(dados.iloc[3])
tv = list(dados.iloc[4])
itv = list(dados.iloc[5])
v = list(dados.iloc[6])
iv = list(dados.iloc[7])
c = list(dados.iloc[8])
trm.pop(0)
itrm.pop(0)
rm.pop(0)
irm.pop(0)
tv.pop(0)
itv.pop(0)
v.pop(0)
iv.pop(0)
c.pop(0)

for i in range(len(trm)):
  trm[i] = [trm[i]]
  trm[i].append(itrm[i])

  rm[i] = [rm[i]]
  rm[i].append(irm[i])

  tv[i] = [tv[i]]
  tv[i].append(iv[i])

  v[i] = [v[i]]
  v[i].append(iv[i])

  c[i] = [c[i]]
#MMQ

#Incerteza do Y:

def somav(v):
  soma = 0
  for i in range(len(v)):
      valor = 1/((v[i][1])**2)
      soma += valor
  return soma

def somx(x,y,valor):
  soma = 0
  for i in range(len(x)):
      termo = x[i][0]/((y[i][1])**2)
      soma += termo
  soma = soma/valor
  return soma

def sox2(x,y,valor):
  soma = 0
  for i in range(len(x)):
      termo = ((x[i][0])**2)/((y[i][1])**2)
      soma += termo
  soma = soma/valor
  return soma

def somay(x,y,valor):
  soma = 0
  for i in range(len(y)):
      termo = (y[i][0])/((y[i][1])**2)
      soma += termo
  soma = soma/valor
  return soma

def somaxy(x,y,valor):
  soma = 0
  for i in range(len(x)):
      termo = (x[i][0])*(y[i][0])/(y[i][1])**2
      soma += termo
  soma = soma/valor
  return soma

def a(somax,somay,somaxy,somax2,valor):
  a = ((somax*somay) - somaxy)/((somax**2) - somax2)
  t = abs(1/(valor*((somax2) - (somax**2))))
  x = [a,t**(1/2)]
  return x

def b(somay,a,somax,somax2,valor):
  b = somay - a[0]*somax
  t = abs((somax2/valor)/((somax2) - (somax**2)))
  x = [b,t**(1/2)]
  return x

def desviopadrao(vetor):
    soma = 0
    c = len(vetor)
    for i in range(c):
        soma += vetor[i][0]
    media = soma/c
    soma_dos_quadrados = 0
    for i in range(c):
        soma_dos_quadrados += (vetor[i][0] - media)**2
    desvio = (soma_dos_quadrados/(c*(c - 1)))**(1/2)
    x = [media,desvio]
    return x

def media(vetor):
    soma = 0
    for i in range(len(vetor)):
        soma += vetor[i][0]
    media = soma/len(vetor)
    soma = 0
    for i in range(len(vetor)):
        soma += (vetor[i][1]**2)
    incertezamedia = (soma**(1/2))/len(vetor)
    x = [media,incertezamedia]
    return x

diferenca = lambda v1,v2:[(v1[0] - v2[0]),(v1[1]**2 + v2[1]**2)**(1/2)]
elevar = lambda v,p:[v[0]**p[0],abs(p[0]*(v[0]**(p[0]-1))*v[1])]
divisao = lambda v1,v2:((v1[1]/v2[0])**2 + (v1[0]*v2[1]/(v2[0]**2))**2 )**(1/2)
potencia = lambda v2,rm:[v2[0]/rm[0],divisao(v2,rm)]
carnot = lambda tv,tr: [1 - (tv[0]/tr[0])**(-1),divisao(tr,tv)] if(tv[0] > tr[0]) else [1 - (tv[0]/tr[0]),divisao(tv,tr)]
potenciaconsumida = lambda p,e:[p[0]/e[0],divisao(p,e)]

potencia1 = list(map(potencia,list(map(elevar,v,c)),rm))
carnot1 = list(map(carnot,tv,trm))
pq = list(map(potenciaconsumida,potencia1,carnot1))
deltat = list(map(diferenca,tv,trm))

valor = somav(v)
somax = somx(deltat,v,valor)
somax2 = sox2(deltat,v,valor)
somay1 = somay(deltat,v,valor)
somaxy1 = somaxy(deltat,v,valor)
a1 = a(somax,somay1,somaxy1,somax2,valor)
b1 = b(somay1,a1,somax,somax2,valor)

resultados  = [ [potencia1[i][0] for i in range(len(potencia1))],
          [potencia1[i][1] for i in range(len(potencia1))],
          [carnot1[i][0] for i in range(len(carnot1))],
          [carnot1[i][1] for i in range(len(carnot1))],
          [pq[i][0] for i in range(len(pq))],
          [pq[i][1] for i in range(len(pq))],
          [deltat[i][0] for i in range(len(deltat))],
          [deltat[i][1] for i in range(len(deltat))]]

resultados = pd.DataFrame(resultados)
print(resultados)
resultados.to_excel("resultados.xlsx") 
